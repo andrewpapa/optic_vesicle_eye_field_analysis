{
 "cells": [
  {
   "cell_type": "markdown",
   "metadata": {},
   "source": [
    "# Footprinting / expr correlations"
   ]
  },
  {
   "cell_type": "markdown",
   "metadata": {},
   "source": [
    "## Load libraries"
   ]
  },
  {
   "cell_type": "code",
   "execution_count": 1,
   "metadata": {},
   "outputs": [],
   "source": [
    "import numpy as np\n",
    "import pandas as pd\n",
    "\n",
    "import matplotlib.pyplot as plt\n",
    "from mpl_toolkits.axes_grid1.inset_locator import inset_axes\n",
    "plt.rc('text', usetex=True)\n",
    "plt.rcParams['text.latex.preamble'] = r'\\boldmath \\usepackage{amsmath} \\usepackage{amssymb}'\n",
    "from matplotlib.pyplot import cm\n",
    "\n",
    "from adjustText import adjust_text\n",
    "\n",
    "import scipy\n",
    "\n",
    "import itertools\n",
    "from collections import Counter\n",
    "\n",
    "from scipy.stats.stats import pearsonr, spearmanr\n",
    "\n",
    "import gc"
   ]
  },
  {
   "cell_type": "code",
   "execution_count": 2,
   "metadata": {},
   "outputs": [],
   "source": [
    "def ztransform(arr):\n",
    "    \n",
    "    arr_zvals = (arr.T - arr.mean(axis=1))/arr.std(axis=1)\n",
    "    arr_zvals = arr_zvals.T\n",
    "    \n",
    "    return arr_zvals"
   ]
  },
  {
   "cell_type": "markdown",
   "metadata": {},
   "source": [
    "## Load data"
   ]
  },
  {
   "cell_type": "code",
   "execution_count": 3,
   "metadata": {},
   "outputs": [],
   "source": [
    "data_dir = '/home/andrew/biology/xdf/rotation3/mammalian_eftfs/data/tobias/bindetect_results'\n",
    "\n",
    "## differential binding data ##\n",
    "tobias_bindetect_file = 'bindetect_results_full_timecourse.txt'\n",
    "tobias_bindetect_ef_file = 'bindetect_results_full_timecourse_EFup.txt'\n",
    "\n",
    "## peak context annotations ##\n",
    "atac_data_dir = '../data'\n",
    "atac_file = 'ATACseq-CQN-preprocessed-norm-counts.tsv' \n",
    "\n",
    "## TOBIAS footprint scores (sum for each peak) ##\n",
    "tobias_score_dir = '/home/andrew/biology/xdf/rotation3/mammalian_eftfs/data/tobias/footprint_score_files'\n",
    "d0_score_file = 'tobias_timecourse_D0_footprint_scores.csv'\n",
    "d1_score_file = 'tobias_timecourse_D1_footprint_scores.csv'\n",
    "d2_score_file = 'tobias_timecourse_D2_footprint_scores.csv'\n",
    "d3_score_file = 'tobias_timecourse_D3_footprint_scores.csv'\n",
    "d5_score_file = 'tobias_timecourse_D5_GFPplus_footprint_scores.csv'\n",
    "\n",
    "\n",
    "# rna-seq files #\n",
    "rna_data_dir = '../data'\n",
    "rna_file = 'RNAseq-DEseq2-preprocessed-norm-counts.tsv'\n",
    "\n",
    "#\n",
    "tf_database_file = '/home/andrew/biology/xdf/projects/utils/TF_lists/Mus_musculus_TF.txt'"
   ]
  },
  {
   "cell_type": "markdown",
   "metadata": {},
   "source": [
    "## Load ATAC data"
   ]
  },
  {
   "cell_type": "code",
   "execution_count": 4,
   "metadata": {},
   "outputs": [
    {
     "name": "stdout",
     "output_type": "stream",
     "text": [
      "(361867, 14)\n",
      "(361867, 15)\n",
      "Index(['Unnamed: 0', 'D0', 'D1', 'D2', 'D3', 'D5_GFPminus', 'D5_GFPplus',\n",
      "       'chrom', 'chromStart', 'chromEnd', 'context', 'nearest_gene_ensemble',\n",
      "       'nearest_gene_id', 'tad-id-bonev', 'peak-width'],\n",
      "      dtype='object')\n"
     ]
    }
   ],
   "source": [
    "# -- load atac peak counts -- #\n",
    "atac_df = pd.read_csv(atac_data_dir+'/'+atac_file, sep='\\t')\n",
    "print(atac_df.shape)\n",
    "\n",
    "# add peak width as features\n",
    "atac_df['peak-width'] = atac_df['chromEnd'] - atac_df['chromStart']\n",
    "\n",
    "print(atac_df.shape)\n",
    "print(atac_df.columns)\n",
    "\n",
    "atac_df['chromEnd']   = atac_df['chromEnd'].astype(int)\n",
    "atac_df['chromStart'] = atac_df['chromStart'].astype(int)"
   ]
  },
  {
   "cell_type": "markdown",
   "metadata": {},
   "source": [
    "## Load rna-seq data"
   ]
  },
  {
   "cell_type": "code",
   "execution_count": 5,
   "metadata": {},
   "outputs": [
    {
     "name": "stdout",
     "output_type": "stream",
     "text": [
      "Index(['Unnamed: 0', 'ext_gene', 'ens_gene', 'chrom', 'chromStart', 'chromEnd',\n",
      "       'strand', 'Day0_1', 'Day0_2', 'Day0_3', 'Day1_1', 'Day1_2', 'Day1_3',\n",
      "       'Day2_1', 'Day2_2', 'Day2_3', 'Day3_1', 'Day3_2', 'Day3_3',\n",
      "       'Day4_GFPneg_1', 'Day4_GFPneg_2', 'Day4_GFPneg_3', 'Day4_GFPpos_1',\n",
      "       'Day4_GFPpos_2', 'Day4_GFPpos_3', 'Day5_GFPneg_1', 'Day5_GFPneg_2',\n",
      "       'Day5_GFPneg_3', 'Day5_GFPpos_1', 'Day5_GFPpos_2', 'Day5_GFPpos_3',\n",
      "       'EF-up', 'EF-down', 'D0-D1-up', 'D0-D1-down', 'D1-D2-up', 'D1-D2-down',\n",
      "       'D2-D3-up', 'D2-D3-down', 'HK', 'tad-id-bonev', 'day0', 'day1', 'day2',\n",
      "       'day3', 'day4-gfpneg', 'day4-gfppos', 'day5-gfpneg', 'day5-gfppos'],\n",
      "      dtype='object') (49705, 49)\n"
     ]
    }
   ],
   "source": [
    "## ---------------------  ##\n",
    "## -- load RNAseq data -- ##\n",
    "## ---------------------- ##\n",
    "rna_df = pd.read_csv(rna_data_dir+'/'+rna_file, sep='\\t')\n",
    "\n",
    "rna_df['day0'] = rna_df[['Day0_1','Day0_2','Day0_3']].mean(axis=1)\n",
    "rna_df['day1'] = rna_df[['Day1_1','Day1_2','Day1_3']].mean(axis=1)\n",
    "rna_df['day2'] = rna_df[['Day2_1','Day2_2','Day2_3']].mean(axis=1)\n",
    "rna_df['day3'] = rna_df[['Day3_1','Day3_2','Day3_3']].mean(axis=1)\n",
    "rna_df['day4-gfpneg'] = rna_df[['Day4_GFPneg_1','Day4_GFPneg_2','Day4_GFPneg_3']].mean(axis=1)\n",
    "rna_df['day4-gfppos'] = rna_df[['Day4_GFPpos_1','Day4_GFPpos_2','Day4_GFPpos_3']].mean(axis=1)\n",
    "rna_df['day5-gfpneg'] = rna_df[['Day5_GFPneg_1','Day5_GFPneg_2','Day5_GFPneg_3']].mean(axis=1)\n",
    "rna_df['day5-gfppos'] = rna_df[['Day5_GFPpos_1','Day5_GFPpos_2','Day5_GFPpos_3']].mean(axis=1)\n",
    "\n",
    "print(rna_df.columns, rna_df.shape)"
   ]
  },
  {
   "cell_type": "code",
   "execution_count": 6,
   "metadata": {},
   "outputs": [
    {
     "name": "stdout",
     "output_type": "stream",
     "text": [
      "1636\n",
      "EF up TFs:   11 of 37\n",
      "EF down TFs: 65 of 453\n"
     ]
    }
   ],
   "source": [
    "## load Mus musculus TF list\n",
    "tf_list_df = pd.read_csv(tf_database_file,sep='\\t')\n",
    "tf_list = tf_list_df['Symbol'].tolist()\n",
    "print(len(tf_list))\n",
    "\n",
    "ef_up_tfs   = rna_df['ext_gene'][rna_df['ext_gene'].isin(tf_list) & rna_df['EF-up']].tolist()\n",
    "ef_down_tfs = rna_df['ext_gene'][rna_df['ext_gene'].isin(tf_list) & rna_df['EF-down']].tolist()\n",
    "\n",
    "## number of up and down-regulated genes that are TFs ##\n",
    "print('EF up TFs:  ', len(ef_up_tfs), 'of', rna_df['EF-up'].sum())\n",
    "print('EF down TFs:', len(ef_down_tfs), 'of', rna_df['EF-down'].sum())"
   ]
  },
  {
   "cell_type": "markdown",
   "metadata": {},
   "source": [
    "## Load tobias bindetect data"
   ]
  },
  {
   "cell_type": "code",
   "execution_count": 7,
   "metadata": {},
   "outputs": [],
   "source": [
    "bindetect_results          = pd.read_csv(data_dir+'/'+tobias_bindetect_file,sep='\\t')\n",
    "bindetect_results_ef       = pd.read_csv(data_dir+'/'+tobias_bindetect_ef_file,sep='\\t')"
   ]
  },
  {
   "cell_type": "code",
   "execution_count": 8,
   "metadata": {},
   "outputs": [
    {
     "name": "stdout",
     "output_type": "stream",
     "text": [
      "606 606\n"
     ]
    }
   ],
   "source": [
    "motifs          = bindetect_results['output_prefix']\n",
    "motifs_ef       = bindetect_results_ef['output_prefix']\n",
    "print(len(motifs), len(motifs_ef))"
   ]
  },
  {
   "cell_type": "markdown",
   "metadata": {},
   "source": [
    "## Load TOBIAS scores and take means"
   ]
  },
  {
   "cell_type": "code",
   "execution_count": 9,
   "metadata": {},
   "outputs": [
    {
     "name": "stdout",
     "output_type": "stream",
     "text": [
      "28\n",
      "4339\n"
     ]
    }
   ],
   "source": [
    "## up-regulated eye-field genes ##\n",
    "ef_up_tad_numbers = sorted(list(set(rna_df['tad-id-bonev'][rna_df['EF-up']])))\n",
    "ef_up_tad_numbers = list(filter(lambda a: a != -1, ef_up_tad_numbers))\n",
    "print(len(ef_up_tad_numbers))\n",
    "\n",
    "bool_EFup_peaks   = atac_df['tad-id-bonev'].isin(ef_up_tad_numbers) & (atac_df['context'] != 'exon')\n",
    "print(bool_EFup_peaks.sum())"
   ]
  },
  {
   "cell_type": "markdown",
   "metadata": {},
   "source": [
    "**Note:** in order to perform this anaylsis (as you have done genome-wide and for EFup TADs, you need to have the information on how many instances of each motif are found in these sets of peaks separately. "
   ]
  },
  {
   "cell_type": "code",
   "execution_count": 10,
   "metadata": {},
   "outputs": [],
   "source": [
    "## ---------------------- ##\n",
    "## -- load tobias data -- ##\n",
    "## ---------------------- ##\n",
    "\n",
    "def get_tobias_scores(scores_file, bindetect_df, bindetect_select_df, bool_peaks):\n",
    "    \n",
    "    ## 0. load tobias footprint scores\n",
    "    tobias_scores = pd.read_csv(scores_file)\n",
    "    tobias_scores = tobias_scores.drop(columns=['Unnamed: 0','peak-id'])\n",
    "    \n",
    "    ## 1. sum footprint scores across peaks\n",
    "    genome_wide_scores_df = tobias_scores.sum(axis=0)\n",
    "    selection_scores_df = tobias_scores[bool_peaks].sum(axis=0)\n",
    "    \n",
    "    ## 2. now obtain total number of motif occurences in these peaks\n",
    "    bindetect_motifs = bindetect_df['output_prefix'].tolist()\n",
    "    bindetect_select_motifs = bindetect_select_df['output_prefix'].tolist()\n",
    "    tobias_motifs = tobias_scores.columns.tolist()\n",
    "\n",
    "    nmotif_occurences_gw     = []\n",
    "    nmotif_occurences_select = []\n",
    "    for motif in tobias_motifs:\n",
    "\n",
    "        nmotif_occurences_gw.append(bindetect_df['total_tfbs'].iloc[bindetect_motifs.index(motif)])\n",
    "        nmotif_occurences_select.append(bindetect_select_df['total_tfbs'].iloc[bindetect_select_motifs.index(motif)])\n",
    "\n",
    "    nmotif_occurences_gw     = np.array(nmotif_occurences_gw)\n",
    "    nmotif_occurences_select = np.array(nmotif_occurences_select)\n",
    "    \n",
    "    ## 3. divide total motif footprint score by number of motif occurences\n",
    "    genome_wide_scores_df /= nmotif_occurences_gw\n",
    "    selection_scores_df /= nmotif_occurences_select\n",
    "    \n",
    "    del tobias_scores\n",
    "    gc.collect()\n",
    "    \n",
    "    return genome_wide_scores_df, selection_scores_df"
   ]
  },
  {
   "cell_type": "code",
   "execution_count": 11,
   "metadata": {},
   "outputs": [
    {
     "name": "stdout",
     "output_type": "stream",
     "text": [
      "day0 shapes: (606,) (606,)\n",
      "day1 shapes: (606,) (606,)\n",
      "day2 shapes: (606,) (606,)\n",
      "day3 shapes: (606,) (606,)\n",
      "day5 shapes: (606,) (606,)\n"
     ]
    }
   ],
   "source": [
    "d0_scores_gw, d0_scores_EFup = get_tobias_scores(tobias_score_dir+'/'+d0_score_file,\n",
    "                                                 bindetect_results, bindetect_results_ef, bool_EFup_peaks)\n",
    "print('day0 shapes:', d0_scores_gw.shape, d0_scores_EFup.shape)\n",
    "d1_scores_gw, d1_scores_EFup = get_tobias_scores(tobias_score_dir+'/'+d1_score_file,\n",
    "                                                 bindetect_results, bindetect_results_ef, bool_EFup_peaks)\n",
    "print('day1 shapes:', d1_scores_gw.shape, d1_scores_EFup.shape)\n",
    "d2_scores_gw, d2_scores_EFup = get_tobias_scores(tobias_score_dir+'/'+d2_score_file,\n",
    "                                                 bindetect_results, bindetect_results_ef, bool_EFup_peaks)\n",
    "print('day2 shapes:', d2_scores_gw.shape, d2_scores_EFup.shape)\n",
    "d3_scores_gw, d3_scores_EFup = get_tobias_scores(tobias_score_dir+'/'+d3_score_file,\n",
    "                                                 bindetect_results, bindetect_results_ef, bool_EFup_peaks)\n",
    "print('day3 shapes:', d3_scores_gw.shape, d3_scores_EFup.shape)\n",
    "d5_scores_gw, d5_scores_EFup = get_tobias_scores(tobias_score_dir+'/'+d5_score_file,\n",
    "                                                 bindetect_results, bindetect_results_ef, bool_EFup_peaks)\n",
    "print('day5 shapes:', d5_scores_gw.shape, d5_scores_EFup.shape)"
   ]
  },
  {
   "cell_type": "code",
   "execution_count": 12,
   "metadata": {},
   "outputs": [
    {
     "name": "stdout",
     "output_type": "stream",
     "text": [
      "(5, 606) (5, 606)\n"
     ]
    }
   ],
   "source": [
    "mean_footprint_gw_arr = np.vstack((d0_scores_gw, d1_scores_gw, d2_scores_gw, \n",
    "                                   d3_scores_gw, d5_scores_gw))\n",
    "mean_footprint_gw_df = pd.DataFrame(mean_footprint_gw_arr,columns=d0_scores_gw.index.tolist())\n",
    "\n",
    "\n",
    "mean_footprint_EFup_arr = np.vstack((d0_scores_EFup, d1_scores_EFup, d2_scores_EFup, \n",
    "                                     d3_scores_EFup, d5_scores_EFup))\n",
    "mean_footprint_EFup_df = pd.DataFrame(mean_footprint_EFup_arr,columns=d0_scores_EFup.index.tolist())\n",
    "print(mean_footprint_gw_df.shape, mean_footprint_EFup_df.shape)"
   ]
  },
  {
   "cell_type": "markdown",
   "metadata": {},
   "source": [
    "## List of expressed motifs"
   ]
  },
  {
   "cell_type": "code",
   "execution_count": 13,
   "metadata": {},
   "outputs": [
    {
     "name": "stdout",
     "output_type": "stream",
     "text": [
      "Six3\n",
      "353 353\n"
     ]
    }
   ],
   "source": [
    "###################################################################\n",
    "### generate list of motifs in motif database and are expressed ###\n",
    "###################################################################\n",
    "\n",
    "rna_thr = 50 ## DEseq2 RNAseq normalization\n",
    "\n",
    "motif_names = list(bindetect_results['name'].tolist())\n",
    "motif_names_format = [motif.split('_')[0].capitalize() for motif in motif_names]\n",
    "motif_names_format = [motif.split('(')[0] for motif in motif_names_format]\n",
    "\n",
    "motif_w_rna_signal = rna_df['ext_gene'][rna_df['ext_gene'].isin(motif_names_format)].tolist()\n",
    "motif_w_rna_signal = list(set(motif_w_rna_signal))\n",
    "rna_days_test = ['day1','day2','day3','day4-gfppos','day5-gfppos']\n",
    "\n",
    "jasper_names = list(bindetect_results['output_prefix'].tolist())\n",
    "expressed_motifs = []\n",
    "expressed_motifs_names = []\n",
    "for motif in motif_w_rna_signal:\n",
    "    \n",
    "    tmp_rna_max_signal = rna_df[rna_days_test][rna_df['ext_gene'] == motif].values.max()\n",
    "    \n",
    "    if tmp_rna_max_signal > rna_thr:\n",
    "        \n",
    "        tmp_list = list(np.array(jasper_names)[np.where(np.array(motif_names_format)==motif)[0]])\n",
    "        expressed_motifs.append(tmp_list) ## there can be > 1 motif per TF\n",
    "        expressed_motifs_names.append([motif]*len(tmp_list))\n",
    "\n",
    "expressed_motifs = [item for sublist in expressed_motifs for item in sublist]\n",
    "expressed_motifs_names = [item for sublist in expressed_motifs_names for item in sublist]\n",
    "\n",
    "# (remove duplicate)\n",
    "tmp_idx = expressed_motifs.index('Six3_PH0163.1')\n",
    "expressed_motifs.remove('Six3_PH0163.1')\n",
    "print(expressed_motifs_names[tmp_idx])\n",
    "expressed_motifs_names.pop(tmp_idx)\n",
    "\n",
    "print(len(expressed_motifs), len(expressed_motifs_names))"
   ]
  },
  {
   "cell_type": "markdown",
   "metadata": {},
   "source": [
    "## TF expression vs TF footprinting -- genome-wide and EFup"
   ]
  },
  {
   "cell_type": "code",
   "execution_count": 14,
   "metadata": {},
   "outputs": [
    {
     "name": "stdout",
     "output_type": "stream",
     "text": [
      "(353, 5)\n",
      "(353, 5)\n",
      "(353, 5)\n",
      "(353, 5)\n"
     ]
    }
   ],
   "source": [
    "tobias_fp_days = ['D0_footprints_mean_score','D1_footprints_mean_score',\n",
    "                  'D2_footprints_mean_score', 'D3_footprints_mean_score',\n",
    "                  'D5_GFPplus_footprints_mean_score']\n",
    "\n",
    "## expressed motifs names ##\n",
    "\n",
    "expressed_motifs_ids = expressed_motifs\n",
    "\n",
    "## genome-wide scores ##\n",
    "motif_footprint_scores = mean_footprint_gw_df[expressed_motifs_ids].values.T\n",
    "print(motif_footprint_scores.shape)\n",
    "\n",
    "## EF TAD scores ##\n",
    "motif_footprint_scores_ef = mean_footprint_EFup_df[expressed_motifs_ids].values.T\n",
    "print(motif_footprint_scores_ef.shape)\n",
    "\n",
    "## z-transform footprint scores\n",
    "motif_footprint_zvals = ztransform(motif_footprint_scores)\n",
    "print(motif_footprint_zvals.shape)\n",
    "\n",
    "motif_footprint_ef_zvals = ztransform(motif_footprint_scores_ef)\n",
    "print(motif_footprint_ef_zvals.shape)"
   ]
  },
  {
   "cell_type": "code",
   "execution_count": 15,
   "metadata": {},
   "outputs": [
    {
     "name": "stdout",
     "output_type": "stream",
     "text": [
      "(353, 5)\n",
      "(353, 5)\n"
     ]
    }
   ],
   "source": [
    "## heatmap of TF expression vs TF footprinting\n",
    "tf_expr_arr = []\n",
    "for motif in expressed_motifs_ids:\n",
    "    \n",
    "    gene_name = expressed_motifs_names[expressed_motifs.index(motif)]\n",
    "    gene_expr = rna_df[rna_days_test][rna_df['ext_gene']==gene_name].values[0]\n",
    "    gene_expr = np.log2(gene_expr + 1)\n",
    "    tf_expr_arr.append(list(gene_expr))\n",
    "    #print()\n",
    "    #print(motif, gene_id)\n",
    "tf_expr_arr = np.array(tf_expr_arr)\n",
    "print(tf_expr_arr.shape)\n",
    "\n",
    "tf_expr_zvals = ztransform(tf_expr_arr)\n",
    "print(tf_expr_zvals.shape)"
   ]
  },
  {
   "cell_type": "code",
   "execution_count": 16,
   "metadata": {},
   "outputs": [
    {
     "name": "stdout",
     "output_type": "stream",
     "text": [
      "['Lhx2', 'Klf4', 'Gata6', 'Rhox6', 'Vax1', 'Ascl2', 'Nanog', 'Hnf4a', 'Hnf1b', 'Gsc', 'Six6', 'Esrrb', 'Gata4', 'Runx1', 'Pou5f1', 'Rax', 'Dmrt1', 'Sox17', 'Nr5a2', 'Pax6', 'Bhlhe40', 'Irx3', 'Ets1', 'Eomes', 'Foxj1', 'Foxa2', 'Lmx1b', 'Six3', 'En2', 'Sox15', 'Sox7', 'Gbx1', 'Rhox6', 'Sox2', 'Otx2']\n",
      "35\n",
      "Foxa2    Foxa2_2_PB0119.1      0.294 -0.173 -0.385 -0.801\n",
      "Foxa2    Foxa2_MA0047.2        0.324  0.469 -0.400 -0.768\n",
      "Foxa2    Foxa2_1_PB0015.1      0.451  0.454 -0.245 -0.827\n",
      "Gata4    Gata4_MA0482.1        0.533  0.621 -0.598 -0.997\n",
      "Gsc      Gsc_PH0035.1         -0.145 -0.084 -0.327  0.126\n",
      "Klf4     Klf4_MA0039.2        -0.215  0.622 -0.653 -0.512\n",
      "Klf4     Klf4_MA0039.1         0.059 -0.654 -0.701 -0.969\n",
      "Sox17    Sox17_2_PB0170.1      0.821  0.628 -0.420 -0.940\n",
      "Sox17    Sox17_MA0078.1        0.169 -0.613 -0.643 -1.000\n",
      "Sox17    Sox17_1_PB0066.1      0.853  0.732 -0.358 -0.932\n",
      "Lhx2     Lhx2_PH0092.1         0.437  0.946  0.642  0.989\n",
      "Lhx2     Lhx2_2_M00380_2.00    0.486  0.966  0.647  0.990\n",
      "Pax6     Pax6_PH0132.1         0.428  0.961  0.731  1.000\n",
      "Pax6     Pax6_2_M00540_2.00    0.556  0.986  0.718  1.000\n",
      "Foxj1    Foxj1_2_PB0120.1      0.909  0.872 -0.509 -0.818\n",
      "Foxj1    Foxj1_1_PB0016.1      0.924  0.906 -0.504 -0.930\n",
      "Rhox6    Rhox6_PH0159.1       -0.071 -0.801 -0.432 -0.913\n",
      "Sox15    Sox15_2_PB0169.1      0.823  0.427 -0.652 -0.952\n",
      "Sox15    Sox15_1_PB0065.1      0.944  0.924 -0.209 -0.781\n",
      "Lmx1b    Lmx1b_PH0101.1       -0.424 -0.351 -0.096  0.056\n",
      "Sox2     Sox2_1_MA0143.2       0.566  0.068  0.567  0.091\n",
      "Sox2     Sox2_2_MA0143.1       0.567  0.065  0.575  0.092\n",
      "Sox2     Sox2_MA0143.3        -0.169  0.949 -0.732  0.302\n",
      "Sox2     Sox2_3_M08041_2.00    0.562  0.092  0.170 -0.005\n",
      "Eomes    Eomes_2_PB0117.1      0.784  0.884  0.674  0.786\n",
      "Eomes    Eomes_1_PB0013.1      0.858  0.425 -0.708 -0.848\n",
      "Rax      Rax_PH0156.1          0.530  0.936  0.641  0.957\n",
      "Rax      Rax_2_M00426_2.00     0.450  0.924  0.632  0.961\n",
      "Irx3     Irx3_1_PH0083.1      -0.425 -0.591 -0.064 -0.532\n",
      "Irx3     Irx3_2_PH0084.1      -0.435 -0.534 -0.037 -0.426\n",
      "Ascl2    Ascl2_MA0816.1       -0.729  0.226 -0.818 -0.943\n",
      "Ascl2    Ascl2_1_PB0003.1     -0.361  0.705 -0.685 -0.488\n",
      "Ascl2    Ascl2_2_PB0107.1     -0.761 -0.110 -0.811 -0.935\n",
      "Nr5a2    Nr5a2_MA0505.1        0.886  0.967  0.908  0.982\n",
      "Dmrt1    Dmrt1_MA1603.1        0.864  0.910 -0.528 -0.950\n",
      "Runx1    RUNX1_MA0002.2        0.595  0.980 -0.553 -0.709\n",
      "Nanog    Nanog_UN0383.1        0.800  0.784 -0.563 -0.911\n",
      "Bhlhe40  Bhlhe40_MA0464.1      0.601  0.960 -0.587 -0.971\n",
      "Vax1     Vax1_PH0174.1         0.039  0.246  0.722  0.847\n",
      "Gata6    Gata6_1_PB0023.1      0.672  0.439 -0.368 -0.884\n",
      "Gata6    Gata6_2_PB0127.1     -0.596 -0.776 -0.584 -0.826\n",
      "Six6     Six6_1_PB0163.1      -0.873 -0.750  0.841  0.979\n",
      "Six6     Six6_2_PH0166.1      -0.819 -0.528  0.530  0.855\n",
      "Six6     Six6_3_PH0165.1      -0.342 -0.657  0.953  0.938\n",
      "Six6     Six6_4_PB0059.1      -0.319 -0.633  0.903  0.976\n",
      "Six6     Six6_5_M00169_2.00   -0.701 -0.700  0.937  0.963\n",
      "Pou5f1   Pou5f1_MA1115.1       0.959  0.933  0.967  0.698\n",
      "Pou5f1   Pou5f1_2_M08031_2.00  0.945  0.943  0.978  0.857\n",
      "Hnf4a    Hnf4a_1_PB0030.1      0.169 -0.826 -0.381 -0.972\n",
      "Hnf4a    Hnf4a_MA0114.3        0.570 -0.086 -0.553 -0.945\n",
      "Hnf4a    Hnf4a_2_PB0134.1      0.769  0.386  0.138 -0.873\n",
      "Six3     Six3_MA0631.1        -0.658 -0.897  0.531  0.820\n",
      "Six3     Six3_2_M00483_2.00   -0.812 -0.716  0.376  0.777\n",
      "En2      En2_PH0029.1         -0.198 -0.958 -0.412 -0.990\n",
      "Ets1     Ets1_MA0098.2         0.340  0.419 -0.270 -0.857\n",
      "Esrrb    Esrrb_MA0141.1        0.858  0.880  0.725  0.284\n",
      "Esrrb    Esrrb_MA0141.2        0.858  0.878  0.737  0.282\n",
      "Gbx1     Gbx1_PH0033.1         0.752  0.800  0.808  0.697\n",
      "Sox7     Sox7_2_PB0177.1       0.417 -0.488 -0.516 -0.969\n",
      "Sox7     Sox7_1_PB0073.1       0.911  0.885 -0.362 -0.923\n",
      "Hnf1b    Hnf1b_PH0168.1        0.918  0.477 -0.256 -0.810\n",
      "Hnf1b    HNF1B_MA0153.1        0.719  0.089 -0.248 -0.887\n",
      "Otx2     Otx2_PH0130.1         0.804  0.704  0.756  0.746\n",
      "Otx2     Otx2_2_M00418_2.00    0.748  0.622  0.741  0.784\n",
      "(64, 5) (64, 5) (64, 5)\n",
      "(64, 5) (64, 5) (64, 5)\n"
     ]
    }
   ],
   "source": [
    "de_genes = rna_df['ext_gene'][rna_df['EF-up'] | rna_df['EF-down']].tolist()\n",
    "de_genes.append('Sox2')\n",
    "de_genes.append('Otx2')\n",
    "\n",
    "print([gene for gene in de_genes if gene in expressed_motifs_names])\n",
    "print(len([gene for gene in de_genes if gene in expressed_motifs_names]))\n",
    "\n",
    "expr_footprint_lag = []\n",
    "expr_footprint_best_corr = []\n",
    "expr_footprint_ef_lag = []\n",
    "expr_footprint_ef_best_corr = []\n",
    "de_tf_expr_arr = []\n",
    "de_motif_footprint_arr = []\n",
    "de_motif_footprint_ef_arr = []\n",
    "motif_names = []\n",
    "gene_names = []\n",
    "\n",
    "for k, motif in enumerate(expressed_motifs_ids):\n",
    "    \n",
    "    gene_name = expressed_motifs_names[expressed_motifs.index(motif)]\n",
    "    gene_expr = rna_df[rna_days_test][rna_df['ext_gene']==gene_name].values[0]\n",
    "    gene_expr = np.log2(gene_expr + 1)\n",
    "    \n",
    "    if gene_name in de_genes:\n",
    "        de_tf_expr_arr.append(gene_expr)\n",
    "        de_motif_footprint_arr.append(motif_footprint_scores[k,:])\n",
    "        de_motif_footprint_ef_arr.append(motif_footprint_scores_ef[k,:])\n",
    "        #\n",
    "        motif_names.append(motif)\n",
    "        gene_names.append(gene_name)\n",
    "        tmp_corr    = pearsonr(gene_expr, motif_footprint_scores[k,:])[0]\n",
    "        tmp_corr_ef = pearsonr(gene_expr, motif_footprint_scores_ef[k,:])[0]\n",
    "        tmp_corr_lag    = pearsonr(gene_expr[:-1],motif_footprint_scores[k,:][1:])[0]\n",
    "        tmp_corr_ef_lag = pearsonr(gene_expr[:-1],motif_footprint_scores_ef[k,:][1:])[0]\n",
    "        #\n",
    "        if abs(tmp_corr_ef) >= abs(tmp_corr_ef_lag):\n",
    "            expr_footprint_ef_lag.append(0)\n",
    "            expr_footprint_ef_best_corr.append(tmp_corr_ef)\n",
    "        else:\n",
    "            expr_footprint_ef_lag.append(-1)\n",
    "            expr_footprint_ef_best_corr.append(tmp_corr_ef_lag)\n",
    "            #\n",
    "        if abs(tmp_corr) >= abs(tmp_corr_lag):\n",
    "            expr_footprint_lag.append(0)\n",
    "            expr_footprint_best_corr.append(tmp_corr)\n",
    "        else:\n",
    "            expr_footprint_lag.append(-1)\n",
    "            expr_footprint_best_corr.append(tmp_corr_lag)\n",
    "        #\n",
    "        gene_expr_zval = (gene_expr - gene_expr.mean()) / gene_expr.std()\n",
    "        footprint_zval = (motif_footprint_scores_ef[k,:]-motif_footprint_scores_ef[k,:].mean())\n",
    "        footprint_zval /= motif_footprint_scores_ef[k,:].std()\n",
    "        #\n",
    "        gene_expr_norm = gene_expr / np.median(gene_expr)\n",
    "        footprint_norm = motif_footprint_scores_ef[k,:] / np.median(motif_footprint_scores_ef[k,:])\n",
    "        #\n",
    "        tmp_cross_correlation = np.correlate(gene_expr_zval,  footprint_zval, mode='same')\n",
    "        tmp_cross_correlation /= len(gene_expr)\n",
    "        tmp_lag = np.argmax(tmp_cross_correlation)-2\n",
    "        tmp_best_corr = tmp_cross_correlation[np.argmax(tmp_cross_correlation)]\n",
    "        #\n",
    "        print(gene_name.ljust(8), motif.ljust(20), \n",
    "              f'{tmp_corr:.3f}'.rjust(6), f'{tmp_corr_lag:.3f}'.rjust(6),\n",
    "              f'{tmp_corr_ef:.3f}'.rjust(6),  f'{tmp_corr_ef_lag:.3f}'.rjust(6))\n",
    "        \n",
    "\n",
    "de_tf_expr_arr            = np.array(de_tf_expr_arr)\n",
    "de_motif_footprint_arr    = np.array(de_motif_footprint_arr)\n",
    "de_motif_footprint_ef_arr = np.array(de_motif_footprint_ef_arr)\n",
    "expr_footprint_lag = np.array(expr_footprint_lag)\n",
    "expr_footprint_best_corr = np.array(expr_footprint_best_corr)\n",
    "expr_footprint_ef_lag = np.array(expr_footprint_ef_lag)\n",
    "expr_footprint_ef_best_corr = np.array(expr_footprint_ef_best_corr)\n",
    "\n",
    "de_tf_expr_zvals = ztransform(de_tf_expr_arr)\n",
    "de_motif_footprint_zvals = ztransform(de_motif_footprint_arr)\n",
    "de_motif_footprint_ef_zvals = ztransform(de_motif_footprint_ef_arr)\n",
    "#\n",
    "de_tf_expr_norm = (de_tf_expr_arr.T / np.median(de_tf_expr_arr,axis=1)).T\n",
    "de_motif_footprint_norm = (de_motif_footprint_arr.T / np.median(de_motif_footprint_arr,axis=1)).T\n",
    "de_motif_footprint_ef_norm = (de_motif_footprint_ef_arr.T / np.median(de_motif_footprint_ef_arr,axis=1)).T\n",
    "\n",
    "print(de_motif_footprint_arr.shape, de_motif_footprint_ef_arr.shape, de_tf_expr_arr.shape)\n",
    "print(de_tf_expr_norm.shape, de_motif_footprint_norm.shape, de_motif_footprint_ef_norm.shape)"
   ]
  },
  {
   "cell_type": "code",
   "execution_count": 17,
   "metadata": {},
   "outputs": [],
   "source": [
    "col_names = ['motif_names','gene_names','expr_argmax','footprint_argmax', 'footprint_ef_argmax',\n",
    "             'best_corr','best_corr_ef','lag','lag_ef','bool-ef-up','bool-ef-down','bool-ef-related']\n",
    "expr_argmax = np.argmax(de_tf_expr_zvals,axis=1)\n",
    "footprint_argmax = np.argmax(de_motif_footprint_zvals,axis=1)\n",
    "footprint_ef_argmax = np.argmax(de_motif_footprint_ef_zvals,axis=1)\n",
    "bool_ef_up_plt   = np.in1d(np.array(gene_names),ef_up_tfs)\n",
    "bool_ef_down_plt = np.in1d(np.array(gene_names),ef_down_tfs)\n",
    "bool_ef_related_plt = np.in1d(np.array(gene_names),['Sox2','Otx2'])\n",
    "\n",
    "plt_df = pd.DataFrame(zip(motif_names, gene_names, expr_argmax, footprint_argmax, footprint_ef_argmax, \n",
    "                          expr_footprint_best_corr, expr_footprint_ef_best_corr,\n",
    "                          expr_footprint_lag, expr_footprint_ef_lag,\n",
    "                          bool_ef_up_plt,bool_ef_down_plt,bool_ef_related_plt),\n",
    "                          columns=col_names)"
   ]
  },
  {
   "cell_type": "code",
   "execution_count": 18,
   "metadata": {},
   "outputs": [
    {
     "name": "stdout",
     "output_type": "stream",
     "text": [
      "['Lhx2', 'Lhx2-2', 'Rax', 'Rax-2', 'Six3', 'Six3-2', 'Gbx1', 'Pax6', 'Pax6-2', 'Six6-1', 'Six6-2', 'Six6-3', 'Six6-4', 'Six6-5', 'Vax1', 'Esrrb', 'Esrrb', 'Nr5a2', 'Pou5f1', 'Pou5f1-2', 'Eomes-2', 'Sox2-1', 'Sox2-2', 'Otx2', 'Otx2-2']\n"
     ]
    },
    {
     "name": "stderr",
     "output_type": "stream",
     "text": [
      "/home/andrew/bin/miniconda3/lib/python3.7/site-packages/ipykernel_launcher.py:73: UserWarning: This figure includes Axes that are not compatible with tight_layout, so results might be incorrect.\n"
     ]
    },
    {
     "data": {
      "image/png": "[encoded data removed]",
      "text/plain": [
       "<Figure size 360x936 with 2 Axes>"
      ]
     },
     "metadata": {
      "needs_background": "light"
     },
     "output_type": "display_data"
    }
   ],
   "source": [
    "####################################\n",
    "## make z-value plot (expressino) ##\n",
    "####################################\n",
    "\n",
    "## heatmap according to lag ##\n",
    "days_list = [0,1,2,3,5]\n",
    "plt_xticks = [r'\\bf '+str(day) for day in days_list]\n",
    "\n",
    "aspect_ratio = 0.35\n",
    "\n",
    "## selection & sorting criteria ##\n",
    "corr_thr = 0.5\n",
    "bool_select1 = (plt_df['best_corr_ef'] >  corr_thr) & (plt_df['lag_ef'].isin([0,-1]))\n",
    "sort_idx1 = plt_df[bool_select1].sort_values(['bool-ef-up','bool-ef-down',\n",
    "                                            'expr_argmax', 'footprint_ef_argmax', 'gene_names'],\n",
    "                                           ascending=[False,False,True,True,True]).index.tolist()\n",
    "\n",
    "n_efup_plt_tfs   = len(set(plt_df['gene_names'][bool_select1][plt_df['bool-ef-up'][bool_select1]]))\n",
    "n_efdown_plt_tfs = len(set(plt_df['gene_names'][bool_select1][plt_df['bool-ef-down'][bool_select1]]))\n",
    "## selection & sorting criteria ##\n",
    "\n",
    "## plot labels ##\n",
    "motif_names_plt_pre = [motif.replace('_','-') for motif in np.array(motif_names)[sort_idx1] ]\n",
    "motif_names_plt = []\n",
    "for motif in motif_names_plt_pre:\n",
    "    \n",
    "    if len(motif.split('-')) == 2:\n",
    "        motif_names_plt.append(motif.split('-')[0])\n",
    "    elif len(motif.split('-')) > 2:\n",
    "        motif_names_plt.append('-'.join(motif.split('-')[:2]))\n",
    "print(motif_names_plt)\n",
    "motif_names_plt = list(np.array(motif_names_plt))\n",
    "motif_names_plt = [r'\\bf '+motif for motif in motif_names_plt] \n",
    "gene_names_plt  = list(np.array(gene_names)[sort_idx1])\n",
    "gene_names_plt  = [r'\\bf '+gene for gene in gene_names_plt] \n",
    "## plot labels ##\n",
    "\n",
    "## distill so that duplicates not plotted ##\n",
    "tmp_list = list(np.array(gene_names)[sort_idx1])\n",
    "tmp_list_set = set()\n",
    "gene_set = [x for x in tmp_list if not (x in tmp_list_set or tmp_list_set.add(x))]\n",
    "tmp_list_set = set()\n",
    "gene_set_idx = [tmp_list.index(x) for x in tmp_list if not (x in tmp_list_set or tmp_list_set.add(x))]\n",
    "#print(gene_set, len(gene_set))\n",
    "#print(gene_set_idx, len(gene_set_idx))\n",
    "gene_set_plt  = [r'\\bf '+gene for gene in gene_set]\n",
    "## #########################################\n",
    "\n",
    "fig = plt.figure(figsize=(5,13))\n",
    "\n",
    "im = plt.imshow(de_tf_expr_zvals[sort_idx1][gene_set_idx],interpolation='nearest', \n",
    "                    vmin=-2.0, vmax=2.0, cmap='bwr',aspect=aspect_ratio)\n",
    "plt.yticks(range(len(gene_set)),gene_set_plt,fontsize=13)\n",
    "plt.title(r'\\bf TF expression z-score',fontsize=14)\n",
    "plt.ylabel(r'\\bf genes',fontsize=15)\n",
    "\n",
    "\n",
    "plt.xticks(range(len(days_list)),plt_xticks,fontsize=13)\n",
    "plt.xlabel(r'\\bf days',fontsize=15)\n",
    "plt.axhline(n_efup_plt_tfs-0.5,ls='-',color='black')\n",
    "plt.axhline(n_efdown_plt_tfs+n_efup_plt_tfs-0.5,ls='-',color='black')\n",
    "\n",
    "## add color bar ##\n",
    "ax = plt.gca()\n",
    "cbar_height = ax.get_position().height * 0.25\n",
    "cax = fig.add_axes([ax.get_position().x1+.09,\n",
    "                    ax.get_position().y1-0.074,0.016,\n",
    "                    cbar_height])\n",
    "cbar = fig.colorbar(im, cax=cax, orientation='vertical',ticklocation='right') \n",
    "cbar.set_label(r'\\bf $z$-value', fontsize=16, labelpad=10, rotation=270)\n",
    "## add color bars ##\n",
    "\n",
    "plt.tight_layout()\n",
    "#file_str = '05_organoids_tobias_footprint_expression-positive-correlations-'+vals_plt+'.pdf'\n",
    "#print(file_str)\n",
    "#plt.savefig('./figures_paper/'+file_str,bbox_inches='tight')\n",
    "plt.show()"
   ]
  },
  {
   "cell_type": "code",
   "execution_count": 19,
   "metadata": {},
   "outputs": [
    {
     "name": "stderr",
     "output_type": "stream",
     "text": [
      "/home/andrew/bin/miniconda3/lib/python3.7/site-packages/ipykernel_launcher.py:81: UserWarning: This figure includes Axes that are not compatible with tight_layout, so results might be incorrect.\n"
     ]
    },
    {
     "data": {
      "image/png": "[encoded data removed]",
      "text/plain": [
       "<Figure size 360x936 with 2 Axes>"
      ]
     },
     "metadata": {
      "needs_background": "light"
     },
     "output_type": "display_data"
    }
   ],
   "source": [
    "################################\n",
    "## make z-value plot (motifs) ##\n",
    "################################\n",
    "\n",
    "vals_plt = 'EFup'\n",
    "#vals_plt = 'genome-wide'\n",
    "\n",
    "## heatmap according to lag ##\n",
    "days_list = [0,1,2,3,5]\n",
    "plt_xticks = [r'\\bf '+str(day) for day in days_list]\n",
    "\n",
    "aspect_ratio = 0.35\n",
    "\n",
    "## selection & sorting criteria ##\n",
    "corr_thr = 0.5\n",
    "bool_select1 = (plt_df['best_corr_ef'] >  corr_thr) & (plt_df['lag_ef'].isin([0,-1]))\n",
    "sort_idx1 = plt_df[bool_select1].sort_values(['bool-ef-up','bool-ef-down',\n",
    "                                            'expr_argmax', 'footprint_ef_argmax', 'gene_names'],\n",
    "                                           ascending=[False,False,True,True,True]).index.tolist()\n",
    "\n",
    "n_efup_plt_tfs   = plt_df['bool-ef-up'][bool_select1].sum()\n",
    "n_efdown_plt_tfs = plt_df['bool-ef-down'][bool_select1].sum()\n",
    "## selection & sorting criteria ##\n",
    "\n",
    "## plot labels ##\n",
    "motif_names_plt_pre = [motif.replace('_','-') for motif in np.array(motif_names)[sort_idx1] ]\n",
    "motif_names_plt = []\n",
    "for motif in motif_names_plt_pre:\n",
    "    \n",
    "    if len(motif.split('-')) == 2:\n",
    "        motif_names_plt.append(motif.split('-')[0])\n",
    "    elif len(motif.split('-')) > 2:\n",
    "        motif_names_plt.append('-'.join(motif.split('-')[:2]))\n",
    "#print(motif_names_plt)\n",
    "motif_names_plt = list(np.array(motif_names_plt))\n",
    "motif_names_plt = [r'\\bf '+motif for motif in motif_names_plt] \n",
    "gene_names_plt  = list(np.array(gene_names)[sort_idx1])\n",
    "gene_names_plt  = [r'\\bf '+gene for gene in gene_names_plt] \n",
    "## plot labels ##\n",
    "\n",
    "fig = plt.figure(figsize=(5,13))\n",
    "\n",
    "if vals_plt == 'expr':\n",
    "    im = plt.imshow(de_tf_expr_zvals[sort_idx1],interpolation='nearest', \n",
    "                    vmin=-2.0, vmax=2.0, cmap='bwr',aspect=aspect_ratio)\n",
    "    plt.yticks(range(len(motif_names_plt)),gene_names_plt,fontsize=13)\n",
    "    plt.title(r'\\bf TF expression z-score',fontsize=14)\n",
    "    plt.ylabel(r'\\bf genes',fontsize=15)\n",
    "    \n",
    "elif vals_plt == 'EFup':\n",
    "    im = plt.imshow(de_motif_footprint_ef_zvals[sort_idx1],interpolation='nearest', \n",
    "                    vmin=-2.0, vmax=2.0, cmap='bwr',aspect=aspect_ratio)\n",
    "    plt.yticks(range(len(motif_names_plt)),motif_names_plt,fontsize=13)\n",
    "    plt.title(r'\\bf motif footprint z-score, EF-up TADs',fontsize=14)\n",
    "    plt.ylabel(r'\\bf motifs',fontsize=15)\n",
    "\n",
    "    \n",
    "elif vals_plt == 'genome-wide':\n",
    "    im = plt.imshow(de_motif_footprint_zvals[sort_idx1],interpolation='nearest', \n",
    "                    vmin=-2.0, vmax=2.0, cmap='bwr',aspect=aspect_ratio)\n",
    "    plt.yticks(range(len(motif_names_plt)),motif_names_plt,fontsize=13)\n",
    "    plt.title(r'\\bf motif footprint z-score, genome-wide',fontsize=14)\n",
    "    plt.ylabel(r'\\bf motifs',fontsize=15)\n",
    "\n",
    "\n",
    "plt.xticks(range(len(days_list)),plt_xticks,fontsize=13)\n",
    "plt.xlabel(r'\\bf days',fontsize=15)\n",
    "plt.axhline(n_efup_plt_tfs-0.5,ls='-',color='black')\n",
    "plt.axhline(n_efdown_plt_tfs+n_efup_plt_tfs-0.5,ls='-',color='black')\n",
    "\n",
    "## add color bar ##\n",
    "ax = plt.gca()\n",
    "cbar_height = ax.get_position().height * 0.25\n",
    "cax = fig.add_axes([ax.get_position().x1+.09,\n",
    "                    ax.get_position().y1-0.155,0.016,\n",
    "                    cbar_height])\n",
    "cbar = fig.colorbar(im, cax=cax, orientation='vertical',ticklocation='right') \n",
    "cbar.set_label(r'\\bf $z$-value', fontsize=16, labelpad=10, rotation=270)\n",
    "## add color bars ##\n",
    "\n",
    "plt.tight_layout()\n",
    "#file_str = '05_organoids_tobias_footprint_expression-positive-correlations-'+vals_plt+'.pdf'\n",
    "#print(file_str)\n",
    "#plt.savefig('./figures_paper/'+file_str,bbox_inches='tight')\n",
    "plt.show()"
   ]
  }
 ],
 "metadata": {
  "kernelspec": {
   "display_name": "Python 3",
   "language": "python",
   "name": "python3"
  },
  "language_info": {
   "codemirror_mode": {
    "name": "ipython",
    "version": 3
   },
   "file_extension": ".py",
   "mimetype": "text/x-python",
   "name": "python",
   "nbconvert_exporter": "python",
   "pygments_lexer": "ipython3",
   "version": "3.7.12"
  }
 },
 "nbformat": 4,
 "nbformat_minor": 2
}
